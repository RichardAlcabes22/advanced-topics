{
  "cells": [
    {
      "cell_type": "markdown",
      "id": "37544e3b",
      "metadata": {
        "id": "37544e3b"
      },
      "source": [
        "# MNIST Dataset using TensorFlow\n",
        "### Setup"
      ]
    },
    {
      "cell_type": "markdown",
      "id": "61c43e1a",
      "metadata": {
        "id": "61c43e1a"
      },
      "source": [
        "# Run this notebook in Google Colab!\n",
        "\n",
        "## If you dare to try to set this up on your local machine (macbook) run the following commands in your terminal. Proceed at your own risk!\n",
        "- conda install -c apple tensorflow-deps\n",
        "- python -m pip install tensorflow-macos\n",
        "- pip install tensorflow-datasets\n",
        "- NOTE: DO NOT INSTALL THIS ON M1 MAC! As of Jan 17 2023 \"python -m pip install tensorflow-metal\" will not work for M1 Mac GPU Acceleration. Due to this the model will be trained on the CPU. DO NOT INSTALL THIS ON M1 MAC!"
      ]
    },
    {
      "cell_type": "code",
      "execution_count": 1,
      "id": "b9f82bec",
      "metadata": {
        "id": "b9f82bec"
      },
      "outputs": [],
      "source": [
        "import tensorflow as tf\n",
        "import numpy as np\n",
        "import pandas as pd\n",
        "import matplotlib.pyplot as plt"
      ]
    },
    {
      "cell_type": "code",
      "source": [
        "# Check if we are running off a GPU, if not we can change the runtime in the \"Runtime\" tab up top\n",
        "tf.config.list_physical_devices()"
      ],
      "metadata": {
        "colab": {
          "base_uri": "https://localhost:8080/"
        },
        "id": "RzYIEz2gZlvt",
        "outputId": "c2d63399-0b31-4934-b6e0-8989db755e66"
      },
      "id": "RzYIEz2gZlvt",
      "execution_count": 2,
      "outputs": [
        {
          "output_type": "execute_result",
          "data": {
            "text/plain": [
              "[PhysicalDevice(name='/physical_device:CPU:0', device_type='CPU'),\n",
              " PhysicalDevice(name='/physical_device:GPU:0', device_type='GPU')]"
            ]
          },
          "metadata": {},
          "execution_count": 2
        }
      ]
    },
    {
      "cell_type": "code",
      "source": [
        "!nvidia-smi"
      ],
      "metadata": {
        "colab": {
          "base_uri": "https://localhost:8080/"
        },
        "id": "xsqrXai1ZzWX",
        "outputId": "edee79c5-6bea-4fd6-9930-23df3d9f01e9"
      },
      "id": "xsqrXai1ZzWX",
      "execution_count": 3,
      "outputs": [
        {
          "output_type": "stream",
          "name": "stdout",
          "text": [
            "Tue May 23 17:02:03 2023       \n",
            "+-----------------------------------------------------------------------------+\n",
            "| NVIDIA-SMI 525.85.12    Driver Version: 525.85.12    CUDA Version: 12.0     |\n",
            "|-------------------------------+----------------------+----------------------+\n",
            "| GPU  Name        Persistence-M| Bus-Id        Disp.A | Volatile Uncorr. ECC |\n",
            "| Fan  Temp  Perf  Pwr:Usage/Cap|         Memory-Usage | GPU-Util  Compute M. |\n",
            "|                               |                      |               MIG M. |\n",
            "|===============================+======================+======================|\n",
            "|   0  Tesla T4            Off  | 00000000:00:04.0 Off |                    0 |\n",
            "| N/A   48C    P8     9W /  70W |      3MiB / 15360MiB |      0%      Default |\n",
            "|                               |                      |                  N/A |\n",
            "+-------------------------------+----------------------+----------------------+\n",
            "                                                                               \n",
            "+-----------------------------------------------------------------------------+\n",
            "| Processes:                                                                  |\n",
            "|  GPU   GI   CI        PID   Type   Process name                  GPU Memory |\n",
            "|        ID   ID                                                   Usage      |\n",
            "|=============================================================================|\n",
            "|  No running processes found                                                 |\n",
            "+-----------------------------------------------------------------------------+\n"
          ]
        }
      ]
    },
    {
      "cell_type": "code",
      "execution_count": 4,
      "id": "6fdc614b",
      "metadata": {
        "id": "6fdc614b",
        "colab": {
          "base_uri": "https://localhost:8080/"
        },
        "outputId": "758ae759-061d-44b1-ff2a-d600e7ce9b07"
      },
      "outputs": [
        {
          "output_type": "stream",
          "name": "stdout",
          "text": [
            "Downloading data from https://storage.googleapis.com/tensorflow/tf-keras-datasets/mnist.npz\n",
            "11490434/11490434 [==============================] - 0s 0us/step\n"
          ]
        }
      ],
      "source": [
        "#Loading the dataset\n",
        "(X_train, y_train), (X_test, y_test) = tf.keras.datasets.mnist.load_data()"
      ]
    },
    {
      "cell_type": "code",
      "source": [
        "X_train.shape"
      ],
      "metadata": {
        "colab": {
          "base_uri": "https://localhost:8080/"
        },
        "id": "AdODaHMY5enh",
        "outputId": "def82971-16d5-4b5d-d7ee-a86dac720b79"
      },
      "id": "AdODaHMY5enh",
      "execution_count": 5,
      "outputs": [
        {
          "output_type": "execute_result",
          "data": {
            "text/plain": [
              "(60000, 28, 28)"
            ]
          },
          "metadata": {},
          "execution_count": 5
        }
      ]
    },
    {
      "cell_type": "code",
      "source": [
        "# For the most part you will be working with tensors instead of arrays/matrcies.\n",
        "# Lets take a look at what a tensor is by making one.\n",
        "\n",
        "scaler = tf.constant(1)"
      ],
      "metadata": {
        "id": "J8npMVycx_vM"
      },
      "id": "J8npMVycx_vM",
      "execution_count": 6,
      "outputs": []
    },
    {
      "cell_type": "code",
      "source": [
        "scaler.shape"
      ],
      "metadata": {
        "colab": {
          "base_uri": "https://localhost:8080/"
        },
        "id": "3HN2r6t6yVWe",
        "outputId": "349d4e08-7e61-4789-e394-c5ec2b46d178"
      },
      "id": "3HN2r6t6yVWe",
      "execution_count": 7,
      "outputs": [
        {
          "output_type": "execute_result",
          "data": {
            "text/plain": [
              "TensorShape([])"
            ]
          },
          "metadata": {},
          "execution_count": 7
        }
      ]
    },
    {
      "cell_type": "code",
      "source": [
        "scaler.ndim"
      ],
      "metadata": {
        "colab": {
          "base_uri": "https://localhost:8080/"
        },
        "id": "3Oyx36p2yxjN",
        "outputId": "e0a705f3-5698-44d2-8358-90d97b0ac8a2"
      },
      "id": "3Oyx36p2yxjN",
      "execution_count": 8,
      "outputs": [
        {
          "output_type": "execute_result",
          "data": {
            "text/plain": [
              "0"
            ]
          },
          "metadata": {},
          "execution_count": 8
        }
      ]
    },
    {
      "cell_type": "code",
      "source": [
        "vector = tf.constant([1,2,3])"
      ],
      "metadata": {
        "id": "SLN9azZ7y1gJ"
      },
      "id": "SLN9azZ7y1gJ",
      "execution_count": 9,
      "outputs": []
    },
    {
      "cell_type": "code",
      "source": [
        "vector.shape"
      ],
      "metadata": {
        "colab": {
          "base_uri": "https://localhost:8080/"
        },
        "id": "IBTogRajzane",
        "outputId": "983cdcdf-0c60-4561-ad8d-f16832bc3d59"
      },
      "id": "IBTogRajzane",
      "execution_count": 10,
      "outputs": [
        {
          "output_type": "execute_result",
          "data": {
            "text/plain": [
              "TensorShape([3])"
            ]
          },
          "metadata": {},
          "execution_count": 10
        }
      ]
    },
    {
      "cell_type": "code",
      "source": [
        "vector.ndim"
      ],
      "metadata": {
        "colab": {
          "base_uri": "https://localhost:8080/"
        },
        "id": "3yAEu2D-zcd3",
        "outputId": "535b1958-9256-4ced-cb43-780537f73ad1"
      },
      "id": "3yAEu2D-zcd3",
      "execution_count": 11,
      "outputs": [
        {
          "output_type": "execute_result",
          "data": {
            "text/plain": [
              "1"
            ]
          },
          "metadata": {},
          "execution_count": 11
        }
      ]
    },
    {
      "cell_type": "code",
      "source": [
        "matrix = tf.constant([[1,2,3],\n",
        "                     [4,5,6],\n",
        "                     [7,8,9]])"
      ],
      "metadata": {
        "id": "kMvOBOj4ze0D"
      },
      "id": "kMvOBOj4ze0D",
      "execution_count": 12,
      "outputs": []
    },
    {
      "cell_type": "code",
      "source": [
        "matrix.shape"
      ],
      "metadata": {
        "colab": {
          "base_uri": "https://localhost:8080/"
        },
        "id": "2HiM50mWzuXB",
        "outputId": "6d5e07ac-b9b6-44ad-eabc-1044042fb517"
      },
      "id": "2HiM50mWzuXB",
      "execution_count": 13,
      "outputs": [
        {
          "output_type": "execute_result",
          "data": {
            "text/plain": [
              "TensorShape([3, 3])"
            ]
          },
          "metadata": {},
          "execution_count": 13
        }
      ]
    },
    {
      "cell_type": "code",
      "source": [
        "matrix.ndim"
      ],
      "metadata": {
        "colab": {
          "base_uri": "https://localhost:8080/"
        },
        "id": "pehNgU2azxWn",
        "outputId": "56152142-ad03-4e5b-dd03-93d68f373cf9"
      },
      "id": "pehNgU2azxWn",
      "execution_count": 14,
      "outputs": [
        {
          "output_type": "execute_result",
          "data": {
            "text/plain": [
              "2"
            ]
          },
          "metadata": {},
          "execution_count": 14
        }
      ]
    },
    {
      "cell_type": "code",
      "source": [
        "tensor = tf.ones(shape=(2,3,4))"
      ],
      "metadata": {
        "id": "3ywRKBQQz2o9"
      },
      "id": "3ywRKBQQz2o9",
      "execution_count": 15,
      "outputs": []
    },
    {
      "cell_type": "code",
      "source": [
        "tensor"
      ],
      "metadata": {
        "colab": {
          "base_uri": "https://localhost:8080/"
        },
        "id": "u2wY3BGd0yHo",
        "outputId": "a0a4abf6-edc5-4ef7-b573-4a870abde914"
      },
      "id": "u2wY3BGd0yHo",
      "execution_count": 16,
      "outputs": [
        {
          "output_type": "execute_result",
          "data": {
            "text/plain": [
              "<tf.Tensor: shape=(2, 3, 4), dtype=float32, numpy=\n",
              "array([[[1., 1., 1., 1.],\n",
              "        [1., 1., 1., 1.],\n",
              "        [1., 1., 1., 1.]],\n",
              "\n",
              "       [[1., 1., 1., 1.],\n",
              "        [1., 1., 1., 1.],\n",
              "        [1., 1., 1., 1.]]], dtype=float32)>"
            ]
          },
          "metadata": {},
          "execution_count": 16
        }
      ]
    },
    {
      "cell_type": "code",
      "source": [
        "tensor.shape"
      ],
      "metadata": {
        "colab": {
          "base_uri": "https://localhost:8080/"
        },
        "id": "xa3d-Vf20pc1",
        "outputId": "604f88b0-e9d5-40e9-8459-512a1d9c1929"
      },
      "id": "xa3d-Vf20pc1",
      "execution_count": 17,
      "outputs": [
        {
          "output_type": "execute_result",
          "data": {
            "text/plain": [
              "TensorShape([2, 3, 4])"
            ]
          },
          "metadata": {},
          "execution_count": 17
        }
      ]
    },
    {
      "cell_type": "code",
      "source": [
        "tensor.ndim"
      ],
      "metadata": {
        "colab": {
          "base_uri": "https://localhost:8080/"
        },
        "id": "KXhxHl7F0t_e",
        "outputId": "05105ef2-e8cf-4496-91a2-e66dc7557504"
      },
      "id": "KXhxHl7F0t_e",
      "execution_count": 18,
      "outputs": [
        {
          "output_type": "execute_result",
          "data": {
            "text/plain": [
              "3"
            ]
          },
          "metadata": {},
          "execution_count": 18
        }
      ]
    },
    {
      "cell_type": "code",
      "source": [
        "type(X_train)"
      ],
      "metadata": {
        "colab": {
          "base_uri": "https://localhost:8080/"
        },
        "id": "Kn77Tsfj67YZ",
        "outputId": "4548fa9a-ddd8-4e82-f969-a1dbc18c7da3"
      },
      "id": "Kn77Tsfj67YZ",
      "execution_count": 19,
      "outputs": [
        {
          "output_type": "execute_result",
          "data": {
            "text/plain": [
              "numpy.ndarray"
            ]
          },
          "metadata": {},
          "execution_count": 19
        }
      ]
    },
    {
      "cell_type": "code",
      "source": [
        "# It is good practice to always convert data over to tensors as it provides us extra functionality \n",
        "# the same way a numpy array adds extra functionality to a list. Only do this with you features, not target.\n",
        "X_train = tf.constant(X_train)\n",
        "\n",
        "X_test = tf.constant(X_test)"
      ],
      "metadata": {
        "id": "Lkau4ePH5_20"
      },
      "id": "Lkau4ePH5_20",
      "execution_count": 20,
      "outputs": []
    },
    {
      "cell_type": "code",
      "source": [
        "X_train.ndim"
      ],
      "metadata": {
        "colab": {
          "base_uri": "https://localhost:8080/"
        },
        "id": "bMg4deVc7UOk",
        "outputId": "fe57477a-0c5f-4406-a344-3c21f77cea72"
      },
      "id": "bMg4deVc7UOk",
      "execution_count": 21,
      "outputs": [
        {
          "output_type": "execute_result",
          "data": {
            "text/plain": [
              "3"
            ]
          },
          "metadata": {},
          "execution_count": 21
        }
      ]
    },
    {
      "cell_type": "code",
      "execution_count": 22,
      "id": "ce3e7949",
      "metadata": {
        "scrolled": true,
        "colab": {
          "base_uri": "https://localhost:8080/"
        },
        "id": "ce3e7949",
        "outputId": "6d9426ee-5f8c-431a-a693-e25ac2759128"
      },
      "outputs": [
        {
          "output_type": "execute_result",
          "data": {
            "text/plain": [
              "<tf.Tensor: shape=(28, 28), dtype=uint8, numpy=\n",
              "array([[  0,   0,   0,   0,   0,   0,   0,   0,   0,   0,   0,   0,   0,\n",
              "          0,   0,   0,   0,   0,   0,   0,   0,   0,   0,   0,   0,   0,\n",
              "          0,   0],\n",
              "       [  0,   0,   0,   0,   0,   0,   0,   0,   0,   0,   0,   0,   0,\n",
              "          0,   0,   0,   0,   0,   0,   0,   0,   0,   0,   0,   0,   0,\n",
              "          0,   0],\n",
              "       [  0,   0,   0,   0,   0,   0,   0,   0,   0,   0,   0,   0,   0,\n",
              "          0,   0,   0,   0,   0,   0,   0,   0,   0,   0,   0,   0,   0,\n",
              "          0,   0],\n",
              "       [  0,   0,   0,   0,   0,   0,   0,   0,   0,   0,   0,   0,   0,\n",
              "          0,   0,   0,   0,   0,   0,   0,   0,   0,   0,   0,   0,   0,\n",
              "          0,   0],\n",
              "       [  0,   0,   0,   0,   0,   0,   0,   0,   0,   0,   0,   0,   0,\n",
              "          0,   0,   0,   0,   0,   0,   0,   0,   0,   0,   0,   0,   0,\n",
              "          0,   0],\n",
              "       [  0,   0,   0,   0,   0,   0,   0,   0,   0,   0,   0,   0,   3,\n",
              "         18,  18,  18, 126, 136, 175,  26, 166, 255, 247, 127,   0,   0,\n",
              "          0,   0],\n",
              "       [  0,   0,   0,   0,   0,   0,   0,   0,  30,  36,  94, 154, 170,\n",
              "        253, 253, 253, 253, 253, 225, 172, 253, 242, 195,  64,   0,   0,\n",
              "          0,   0],\n",
              "       [  0,   0,   0,   0,   0,   0,   0,  49, 238, 253, 253, 253, 253,\n",
              "        253, 253, 253, 253, 251,  93,  82,  82,  56,  39,   0,   0,   0,\n",
              "          0,   0],\n",
              "       [  0,   0,   0,   0,   0,   0,   0,  18, 219, 253, 253, 253, 253,\n",
              "        253, 198, 182, 247, 241,   0,   0,   0,   0,   0,   0,   0,   0,\n",
              "          0,   0],\n",
              "       [  0,   0,   0,   0,   0,   0,   0,   0,  80, 156, 107, 253, 253,\n",
              "        205,  11,   0,  43, 154,   0,   0,   0,   0,   0,   0,   0,   0,\n",
              "          0,   0],\n",
              "       [  0,   0,   0,   0,   0,   0,   0,   0,   0,  14,   1, 154, 253,\n",
              "         90,   0,   0,   0,   0,   0,   0,   0,   0,   0,   0,   0,   0,\n",
              "          0,   0],\n",
              "       [  0,   0,   0,   0,   0,   0,   0,   0,   0,   0,   0, 139, 253,\n",
              "        190,   2,   0,   0,   0,   0,   0,   0,   0,   0,   0,   0,   0,\n",
              "          0,   0],\n",
              "       [  0,   0,   0,   0,   0,   0,   0,   0,   0,   0,   0,  11, 190,\n",
              "        253,  70,   0,   0,   0,   0,   0,   0,   0,   0,   0,   0,   0,\n",
              "          0,   0],\n",
              "       [  0,   0,   0,   0,   0,   0,   0,   0,   0,   0,   0,   0,  35,\n",
              "        241, 225, 160, 108,   1,   0,   0,   0,   0,   0,   0,   0,   0,\n",
              "          0,   0],\n",
              "       [  0,   0,   0,   0,   0,   0,   0,   0,   0,   0,   0,   0,   0,\n",
              "         81, 240, 253, 253, 119,  25,   0,   0,   0,   0,   0,   0,   0,\n",
              "          0,   0],\n",
              "       [  0,   0,   0,   0,   0,   0,   0,   0,   0,   0,   0,   0,   0,\n",
              "          0,  45, 186, 253, 253, 150,  27,   0,   0,   0,   0,   0,   0,\n",
              "          0,   0],\n",
              "       [  0,   0,   0,   0,   0,   0,   0,   0,   0,   0,   0,   0,   0,\n",
              "          0,   0,  16,  93, 252, 253, 187,   0,   0,   0,   0,   0,   0,\n",
              "          0,   0],\n",
              "       [  0,   0,   0,   0,   0,   0,   0,   0,   0,   0,   0,   0,   0,\n",
              "          0,   0,   0,   0, 249, 253, 249,  64,   0,   0,   0,   0,   0,\n",
              "          0,   0],\n",
              "       [  0,   0,   0,   0,   0,   0,   0,   0,   0,   0,   0,   0,   0,\n",
              "          0,  46, 130, 183, 253, 253, 207,   2,   0,   0,   0,   0,   0,\n",
              "          0,   0],\n",
              "       [  0,   0,   0,   0,   0,   0,   0,   0,   0,   0,   0,   0,  39,\n",
              "        148, 229, 253, 253, 253, 250, 182,   0,   0,   0,   0,   0,   0,\n",
              "          0,   0],\n",
              "       [  0,   0,   0,   0,   0,   0,   0,   0,   0,   0,  24, 114, 221,\n",
              "        253, 253, 253, 253, 201,  78,   0,   0,   0,   0,   0,   0,   0,\n",
              "          0,   0],\n",
              "       [  0,   0,   0,   0,   0,   0,   0,   0,  23,  66, 213, 253, 253,\n",
              "        253, 253, 198,  81,   2,   0,   0,   0,   0,   0,   0,   0,   0,\n",
              "          0,   0],\n",
              "       [  0,   0,   0,   0,   0,   0,  18, 171, 219, 253, 253, 253, 253,\n",
              "        195,  80,   9,   0,   0,   0,   0,   0,   0,   0,   0,   0,   0,\n",
              "          0,   0],\n",
              "       [  0,   0,   0,   0,  55, 172, 226, 253, 253, 253, 253, 244, 133,\n",
              "         11,   0,   0,   0,   0,   0,   0,   0,   0,   0,   0,   0,   0,\n",
              "          0,   0],\n",
              "       [  0,   0,   0,   0, 136, 253, 253, 253, 212, 135, 132,  16,   0,\n",
              "          0,   0,   0,   0,   0,   0,   0,   0,   0,   0,   0,   0,   0,\n",
              "          0,   0],\n",
              "       [  0,   0,   0,   0,   0,   0,   0,   0,   0,   0,   0,   0,   0,\n",
              "          0,   0,   0,   0,   0,   0,   0,   0,   0,   0,   0,   0,   0,\n",
              "          0,   0],\n",
              "       [  0,   0,   0,   0,   0,   0,   0,   0,   0,   0,   0,   0,   0,\n",
              "          0,   0,   0,   0,   0,   0,   0,   0,   0,   0,   0,   0,   0,\n",
              "          0,   0],\n",
              "       [  0,   0,   0,   0,   0,   0,   0,   0,   0,   0,   0,   0,   0,\n",
              "          0,   0,   0,   0,   0,   0,   0,   0,   0,   0,   0,   0,   0,\n",
              "          0,   0]], dtype=uint8)>"
            ]
          },
          "metadata": {},
          "execution_count": 22
        }
      ],
      "source": [
        "#peak at the data\n",
        "#each index is one observation(image) represented in a multi-dimensional tensor\n",
        "X_train[0]"
      ]
    },
    {
      "cell_type": "code",
      "execution_count": 23,
      "id": "79d5350b",
      "metadata": {
        "colab": {
          "base_uri": "https://localhost:8080/"
        },
        "id": "79d5350b",
        "outputId": "d58adcf2-a9f1-4ccd-e1b2-0a9413ea67dc"
      },
      "outputs": [
        {
          "output_type": "execute_result",
          "data": {
            "text/plain": [
              "<tf.Tensor: shape=(28,), dtype=uint8, numpy=\n",
              "array([0, 0, 0, 0, 0, 0, 0, 0, 0, 0, 0, 0, 0, 0, 0, 0, 0, 0, 0, 0, 0, 0,\n",
              "       0, 0, 0, 0, 0, 0], dtype=uint8)>"
            ]
          },
          "metadata": {},
          "execution_count": 23
        }
      ],
      "source": [
        "#each individual array is one numpy array representing one row of pixels\n",
        "X_train[0][0]"
      ]
    },
    {
      "cell_type": "code",
      "execution_count": 24,
      "id": "fa03a4ca",
      "metadata": {
        "colab": {
          "base_uri": "https://localhost:8080/"
        },
        "id": "fa03a4ca",
        "outputId": "01ea566a-a89d-45f8-ce8d-41069b737787"
      },
      "outputs": [
        {
          "output_type": "execute_result",
          "data": {
            "text/plain": [
              "5"
            ]
          },
          "metadata": {},
          "execution_count": 24
        }
      ],
      "source": [
        "y_train[0]"
      ]
    },
    {
      "cell_type": "code",
      "execution_count": 25,
      "id": "bd1f7528",
      "metadata": {
        "colab": {
          "base_uri": "https://localhost:8080/"
        },
        "id": "bd1f7528",
        "outputId": "37727fd2-a9d6-4fe1-a850-b2b668048d80"
      },
      "outputs": [
        {
          "output_type": "stream",
          "name": "stdout",
          "text": [
            "Train Feature Matrix: (60000, 28, 28)\n",
            "Test Feature Matrix: (10000, 28, 28)\n",
            "Train Target Matrix: (60000,)\n",
            "Test Target Matrix: (10000,)\n"
          ]
        }
      ],
      "source": [
        "#how our data is split\n",
        "print(\"Train Feature Matrix:\", X_train.shape)\n",
        "print(\"Test Feature Matrix:\", X_test.shape)\n",
        "print(\"Train Target Matrix:\", y_train.shape)\n",
        "print(\"Test Target Matrix:\", y_test.shape)"
      ]
    },
    {
      "cell_type": "code",
      "execution_count": 26,
      "id": "01d94fcb",
      "metadata": {
        "colab": {
          "base_uri": "https://localhost:8080/",
          "height": 435
        },
        "id": "01d94fcb",
        "outputId": "efdd7ba5-9118-432d-8ab6-57d7cb321c5c"
      },
      "outputs": [
        {
          "output_type": "display_data",
          "data": {
            "text/plain": [
              "<Figure size 640x480 with 100 Axes>"
            ],
            "image/png": "[encoded data removed]"
          },
          "metadata": {}
        }
      ],
      "source": [
        "#a look at some observations\n",
        "fig, ax = plt.subplots(10, 10)\n",
        "k = 0\n",
        "for i in range(10):\n",
        "    for j in range(10):\n",
        "        ax[i][j].imshow(X_train[k], aspect='auto')\n",
        "        k += 1\n",
        "plt.show()"
      ]
    },
    {
      "cell_type": "code",
      "execution_count": 27,
      "id": "a311a85d",
      "metadata": {
        "id": "a311a85d"
      },
      "outputs": [],
      "source": [
        "#defining our model\n",
        "#sequential = feed forward network\n",
        "model = tf.keras.Sequential([\n",
        "    \n",
        "    # reshape 28 row * 28 column data to 28*28 rows\n",
        "    tf.keras.layers.Flatten(input_shape=(28, 28)),\n",
        "    \n",
        "      # dense(hidden) layer 1\n",
        "    tf.keras.layers.Dense(256, activation='sigmoid'),  \n",
        "    \n",
        "    # dense(hidden) layer 2\n",
        "    tf.keras.layers.Dense(128, activation='sigmoid'), \n",
        "    \n",
        "      # output layer\n",
        "    tf.keras.layers.Dense(10, activation='sigmoid'),  \n",
        "])"
      ]
    },
    {
      "cell_type": "code",
      "execution_count": 28,
      "id": "672d9774",
      "metadata": {
        "colab": {
          "base_uri": "https://localhost:8080/"
        },
        "id": "672d9774",
        "outputId": "78a0237e-5660-4a17-88e3-a49215c66f3c"
      },
      "outputs": [
        {
          "output_type": "execute_result",
          "data": {
            "text/plain": [
              "<keras.engine.sequential.Sequential at 0x7fe86019fdf0>"
            ]
          },
          "metadata": {},
          "execution_count": 28
        }
      ],
      "source": [
        "model"
      ]
    },
    {
      "cell_type": "code",
      "execution_count": 29,
      "id": "cc2a211b",
      "metadata": {
        "id": "cc2a211b"
      },
      "outputs": [],
      "source": [
        "#we need to \"compile\" our model by specifying our optimizer(how it learns), \n",
        "#how to calculate our cost function(loss),\n",
        "#and what our metric is\n",
        "model.compile(optimizer='adam',\n",
        "              loss='sparse_categorical_crossentropy',\n",
        "              metrics=['accuracy'])"
      ]
    },
    {
      "cell_type": "code",
      "execution_count": 30,
      "id": "fe636b10",
      "metadata": {
        "colab": {
          "base_uri": "https://localhost:8080/"
        },
        "id": "fe636b10",
        "outputId": "9358181f-573a-4d49-a23a-40f66016a044"
      },
      "outputs": [
        {
          "output_type": "stream",
          "name": "stdout",
          "text": [
            "Epoch 1/100\n",
            "24/24 [==============================] - 6s 19ms/step - loss: 1.6880 - accuracy: 0.5966 - val_loss: 1.0838 - val_accuracy: 0.8163\n",
            "Epoch 2/100\n",
            "24/24 [==============================] - 0s 8ms/step - loss: 0.8397 - accuracy: 0.8315 - val_loss: 0.5944 - val_accuracy: 0.8803\n",
            "Epoch 3/100\n",
            "24/24 [==============================] - 0s 9ms/step - loss: 0.5182 - accuracy: 0.8867 - val_loss: 0.4119 - val_accuracy: 0.9065\n",
            "Epoch 4/100\n",
            "24/24 [==============================] - 0s 8ms/step - loss: 0.3856 - accuracy: 0.9080 - val_loss: 0.3338 - val_accuracy: 0.9179\n",
            "Epoch 5/100\n",
            "24/24 [==============================] - 0s 7ms/step - loss: 0.3217 - accuracy: 0.9186 - val_loss: 0.2906 - val_accuracy: 0.9253\n",
            "Epoch 6/100\n",
            "24/24 [==============================] - 0s 9ms/step - loss: 0.2812 - accuracy: 0.9269 - val_loss: 0.2611 - val_accuracy: 0.9316\n",
            "Epoch 7/100\n",
            "24/24 [==============================] - 0s 8ms/step - loss: 0.2530 - accuracy: 0.9317 - val_loss: 0.2428 - val_accuracy: 0.9326\n",
            "Epoch 8/100\n",
            "24/24 [==============================] - 0s 9ms/step - loss: 0.2312 - accuracy: 0.9381 - val_loss: 0.2281 - val_accuracy: 0.9380\n",
            "Epoch 9/100\n",
            "24/24 [==============================] - 0s 8ms/step - loss: 0.2170 - accuracy: 0.9419 - val_loss: 0.2138 - val_accuracy: 0.9415\n",
            "Epoch 10/100\n",
            "24/24 [==============================] - 0s 7ms/step - loss: 0.2022 - accuracy: 0.9459 - val_loss: 0.2046 - val_accuracy: 0.9429\n",
            "Epoch 11/100\n",
            "24/24 [==============================] - 0s 6ms/step - loss: 0.1897 - accuracy: 0.9484 - val_loss: 0.1935 - val_accuracy: 0.9451\n",
            "Epoch 12/100\n",
            "24/24 [==============================] - 0s 7ms/step - loss: 0.1780 - accuracy: 0.9509 - val_loss: 0.1868 - val_accuracy: 0.9473\n",
            "Epoch 13/100\n",
            "24/24 [==============================] - 0s 5ms/step - loss: 0.1686 - accuracy: 0.9534 - val_loss: 0.1777 - val_accuracy: 0.9491\n",
            "Epoch 14/100\n",
            "24/24 [==============================] - 0s 5ms/step - loss: 0.1586 - accuracy: 0.9561 - val_loss: 0.1760 - val_accuracy: 0.9512\n",
            "Epoch 15/100\n",
            "24/24 [==============================] - 0s 6ms/step - loss: 0.1531 - accuracy: 0.9578 - val_loss: 0.1669 - val_accuracy: 0.9543\n",
            "Epoch 16/100\n",
            "24/24 [==============================] - 0s 6ms/step - loss: 0.1446 - accuracy: 0.9600 - val_loss: 0.1623 - val_accuracy: 0.9542\n",
            "Epoch 17/100\n",
            "24/24 [==============================] - 0s 5ms/step - loss: 0.1408 - accuracy: 0.9618 - val_loss: 0.1569 - val_accuracy: 0.9551\n",
            "Epoch 18/100\n",
            "24/24 [==============================] - 0s 5ms/step - loss: 0.1330 - accuracy: 0.9635 - val_loss: 0.1550 - val_accuracy: 0.9562\n",
            "Epoch 19/100\n",
            "24/24 [==============================] - 0s 7ms/step - loss: 0.1278 - accuracy: 0.9650 - val_loss: 0.1526 - val_accuracy: 0.9563\n",
            "Epoch 20/100\n",
            "24/24 [==============================] - 0s 6ms/step - loss: 0.1215 - accuracy: 0.9669 - val_loss: 0.1478 - val_accuracy: 0.9569\n",
            "Epoch 21/100\n",
            "24/24 [==============================] - 0s 6ms/step - loss: 0.1171 - accuracy: 0.9685 - val_loss: 0.1450 - val_accuracy: 0.9576\n",
            "Epoch 22/100\n",
            "24/24 [==============================] - 0s 6ms/step - loss: 0.1166 - accuracy: 0.9682 - val_loss: 0.1427 - val_accuracy: 0.9604\n",
            "Epoch 23/100\n",
            "24/24 [==============================] - 0s 6ms/step - loss: 0.1117 - accuracy: 0.9691 - val_loss: 0.1372 - val_accuracy: 0.9608\n",
            "Epoch 24/100\n",
            "24/24 [==============================] - 0s 6ms/step - loss: 0.1085 - accuracy: 0.9701 - val_loss: 0.1373 - val_accuracy: 0.9599\n",
            "Epoch 25/100\n",
            "24/24 [==============================] - 0s 6ms/step - loss: 0.1023 - accuracy: 0.9715 - val_loss: 0.1326 - val_accuracy: 0.9618\n",
            "Epoch 26/100\n",
            "24/24 [==============================] - 0s 6ms/step - loss: 0.1008 - accuracy: 0.9719 - val_loss: 0.1335 - val_accuracy: 0.9606\n",
            "Epoch 27/100\n",
            "24/24 [==============================] - 0s 5ms/step - loss: 0.0968 - accuracy: 0.9733 - val_loss: 0.1314 - val_accuracy: 0.9628\n",
            "Epoch 28/100\n",
            "24/24 [==============================] - 0s 5ms/step - loss: 0.0944 - accuracy: 0.9745 - val_loss: 0.1266 - val_accuracy: 0.9637\n",
            "Epoch 29/100\n",
            "24/24 [==============================] - 0s 6ms/step - loss: 0.0927 - accuracy: 0.9743 - val_loss: 0.1247 - val_accuracy: 0.9634\n",
            "Epoch 30/100\n",
            "24/24 [==============================] - 0s 5ms/step - loss: 0.0905 - accuracy: 0.9747 - val_loss: 0.1271 - val_accuracy: 0.9623\n",
            "Epoch 31/100\n",
            "24/24 [==============================] - 0s 5ms/step - loss: 0.0881 - accuracy: 0.9753 - val_loss: 0.1230 - val_accuracy: 0.9646\n",
            "Epoch 32/100\n",
            "24/24 [==============================] - 0s 6ms/step - loss: 0.0848 - accuracy: 0.9764 - val_loss: 0.1211 - val_accuracy: 0.9634\n",
            "Epoch 33/100\n",
            "24/24 [==============================] - 0s 6ms/step - loss: 0.0811 - accuracy: 0.9774 - val_loss: 0.1207 - val_accuracy: 0.9643\n",
            "Epoch 34/100\n",
            "24/24 [==============================] - 0s 6ms/step - loss: 0.0777 - accuracy: 0.9784 - val_loss: 0.1167 - val_accuracy: 0.9652\n",
            "Epoch 35/100\n",
            "24/24 [==============================] - 0s 5ms/step - loss: 0.0768 - accuracy: 0.9785 - val_loss: 0.1182 - val_accuracy: 0.9640\n",
            "Epoch 36/100\n",
            "24/24 [==============================] - 0s 5ms/step - loss: 0.0742 - accuracy: 0.9794 - val_loss: 0.1177 - val_accuracy: 0.9658\n",
            "Epoch 37/100\n",
            "24/24 [==============================] - 0s 5ms/step - loss: 0.0737 - accuracy: 0.9789 - val_loss: 0.1167 - val_accuracy: 0.9647\n",
            "Epoch 38/100\n",
            "24/24 [==============================] - 0s 6ms/step - loss: 0.0728 - accuracy: 0.9798 - val_loss: 0.1175 - val_accuracy: 0.9649\n",
            "Epoch 39/100\n",
            "24/24 [==============================] - 0s 7ms/step - loss: 0.0711 - accuracy: 0.9804 - val_loss: 0.1148 - val_accuracy: 0.9657\n",
            "Epoch 40/100\n",
            "24/24 [==============================] - 0s 6ms/step - loss: 0.0676 - accuracy: 0.9817 - val_loss: 0.1144 - val_accuracy: 0.9646\n",
            "Epoch 41/100\n",
            "24/24 [==============================] - 0s 6ms/step - loss: 0.0661 - accuracy: 0.9812 - val_loss: 0.1131 - val_accuracy: 0.9671\n",
            "Epoch 42/100\n",
            "24/24 [==============================] - 0s 6ms/step - loss: 0.0669 - accuracy: 0.9819 - val_loss: 0.1134 - val_accuracy: 0.9668\n",
            "Epoch 43/100\n",
            "24/24 [==============================] - 0s 5ms/step - loss: 0.0670 - accuracy: 0.9806 - val_loss: 0.1143 - val_accuracy: 0.9661\n",
            "Epoch 44/100\n",
            "24/24 [==============================] - 0s 5ms/step - loss: 0.0676 - accuracy: 0.9809 - val_loss: 0.1148 - val_accuracy: 0.9651\n",
            "Epoch 45/100\n",
            "24/24 [==============================] - 0s 5ms/step - loss: 0.0684 - accuracy: 0.9812 - val_loss: 0.1149 - val_accuracy: 0.9660\n",
            "Epoch 46/100\n",
            "24/24 [==============================] - 0s 6ms/step - loss: 0.0673 - accuracy: 0.9803 - val_loss: 0.1192 - val_accuracy: 0.9638\n",
            "Epoch 47/100\n",
            "24/24 [==============================] - 0s 5ms/step - loss: 0.0642 - accuracy: 0.9817 - val_loss: 0.1123 - val_accuracy: 0.9668\n",
            "Epoch 48/100\n",
            "24/24 [==============================] - 0s 6ms/step - loss: 0.0658 - accuracy: 0.9812 - val_loss: 0.1118 - val_accuracy: 0.9663\n",
            "Epoch 49/100\n",
            "24/24 [==============================] - 0s 5ms/step - loss: 0.0597 - accuracy: 0.9834 - val_loss: 0.1142 - val_accuracy: 0.9645\n",
            "Epoch 50/100\n",
            "24/24 [==============================] - 0s 6ms/step - loss: 0.0580 - accuracy: 0.9831 - val_loss: 0.1133 - val_accuracy: 0.9657\n",
            "Epoch 51/100\n",
            "24/24 [==============================] - 0s 6ms/step - loss: 0.0585 - accuracy: 0.9835 - val_loss: 0.1122 - val_accuracy: 0.9659\n",
            "Epoch 52/100\n",
            "24/24 [==============================] - 0s 5ms/step - loss: 0.0568 - accuracy: 0.9841 - val_loss: 0.1139 - val_accuracy: 0.9656\n",
            "Epoch 53/100\n",
            "24/24 [==============================] - 0s 5ms/step - loss: 0.0575 - accuracy: 0.9836 - val_loss: 0.1123 - val_accuracy: 0.9663\n",
            "Epoch 54/100\n",
            "24/24 [==============================] - 0s 5ms/step - loss: 0.0576 - accuracy: 0.9828 - val_loss: 0.1090 - val_accuracy: 0.9672\n",
            "Epoch 55/100\n",
            "24/24 [==============================] - 0s 6ms/step - loss: 0.0583 - accuracy: 0.9828 - val_loss: 0.1169 - val_accuracy: 0.9652\n",
            "Epoch 56/100\n",
            "24/24 [==============================] - 0s 6ms/step - loss: 0.0564 - accuracy: 0.9835 - val_loss: 0.1081 - val_accuracy: 0.9669\n",
            "Epoch 57/100\n",
            "24/24 [==============================] - 0s 5ms/step - loss: 0.0521 - accuracy: 0.9852 - val_loss: 0.1054 - val_accuracy: 0.9688\n",
            "Epoch 58/100\n",
            "24/24 [==============================] - 0s 6ms/step - loss: 0.0499 - accuracy: 0.9857 - val_loss: 0.1070 - val_accuracy: 0.9682\n",
            "Epoch 59/100\n",
            "24/24 [==============================] - 0s 6ms/step - loss: 0.0500 - accuracy: 0.9859 - val_loss: 0.1012 - val_accuracy: 0.9701\n",
            "Epoch 60/100\n",
            "24/24 [==============================] - 0s 6ms/step - loss: 0.0497 - accuracy: 0.9861 - val_loss: 0.1034 - val_accuracy: 0.9697\n",
            "Epoch 61/100\n",
            "24/24 [==============================] - 0s 5ms/step - loss: 0.0506 - accuracy: 0.9850 - val_loss: 0.1047 - val_accuracy: 0.9687\n",
            "Epoch 62/100\n",
            "24/24 [==============================] - 0s 5ms/step - loss: 0.0494 - accuracy: 0.9854 - val_loss: 0.1067 - val_accuracy: 0.9684\n",
            "Epoch 63/100\n",
            "24/24 [==============================] - 0s 5ms/step - loss: 0.0466 - accuracy: 0.9863 - val_loss: 0.1050 - val_accuracy: 0.9695\n",
            "Epoch 64/100\n",
            "24/24 [==============================] - 0s 5ms/step - loss: 0.0478 - accuracy: 0.9854 - val_loss: 0.1093 - val_accuracy: 0.9666\n",
            "Epoch 65/100\n",
            "24/24 [==============================] - 0s 5ms/step - loss: 0.0487 - accuracy: 0.9853 - val_loss: 0.1090 - val_accuracy: 0.9668\n",
            "Epoch 66/100\n",
            "24/24 [==============================] - 0s 5ms/step - loss: 0.0476 - accuracy: 0.9858 - val_loss: 0.1036 - val_accuracy: 0.9696\n",
            "Epoch 67/100\n",
            "24/24 [==============================] - 0s 5ms/step - loss: 0.0473 - accuracy: 0.9859 - val_loss: 0.1024 - val_accuracy: 0.9703\n",
            "Epoch 68/100\n",
            "24/24 [==============================] - 0s 5ms/step - loss: 0.0460 - accuracy: 0.9867 - val_loss: 0.1042 - val_accuracy: 0.9679\n",
            "Epoch 69/100\n",
            "24/24 [==============================] - 0s 5ms/step - loss: 0.0454 - accuracy: 0.9868 - val_loss: 0.1055 - val_accuracy: 0.9682\n",
            "Epoch 70/100\n",
            "24/24 [==============================] - 0s 6ms/step - loss: 0.0441 - accuracy: 0.9867 - val_loss: 0.1022 - val_accuracy: 0.9673\n",
            "Epoch 71/100\n",
            "24/24 [==============================] - 0s 5ms/step - loss: 0.0446 - accuracy: 0.9861 - val_loss: 0.1057 - val_accuracy: 0.9685\n",
            "Epoch 72/100\n",
            "24/24 [==============================] - 0s 5ms/step - loss: 0.0429 - accuracy: 0.9877 - val_loss: 0.0999 - val_accuracy: 0.9688\n",
            "Epoch 73/100\n",
            "24/24 [==============================] - 0s 5ms/step - loss: 0.0429 - accuracy: 0.9880 - val_loss: 0.1037 - val_accuracy: 0.9686\n",
            "Epoch 74/100\n",
            "24/24 [==============================] - 0s 5ms/step - loss: 0.0452 - accuracy: 0.9859 - val_loss: 0.1053 - val_accuracy: 0.9672\n",
            "Epoch 75/100\n",
            "24/24 [==============================] - 0s 5ms/step - loss: 0.0440 - accuracy: 0.9867 - val_loss: 0.1033 - val_accuracy: 0.9684\n",
            "Epoch 76/100\n",
            "24/24 [==============================] - 0s 5ms/step - loss: 0.0466 - accuracy: 0.9857 - val_loss: 0.1097 - val_accuracy: 0.9683\n",
            "Epoch 77/100\n",
            "24/24 [==============================] - 0s 5ms/step - loss: 0.0472 - accuracy: 0.9850 - val_loss: 0.1100 - val_accuracy: 0.9675\n",
            "Epoch 78/100\n",
            "24/24 [==============================] - 0s 5ms/step - loss: 0.0453 - accuracy: 0.9864 - val_loss: 0.1066 - val_accuracy: 0.9684\n",
            "Epoch 79/100\n",
            "24/24 [==============================] - 0s 5ms/step - loss: 0.0438 - accuracy: 0.9862 - val_loss: 0.1066 - val_accuracy: 0.9688\n",
            "Epoch 80/100\n",
            "24/24 [==============================] - 0s 5ms/step - loss: 0.0439 - accuracy: 0.9865 - val_loss: 0.1046 - val_accuracy: 0.9677\n",
            "Epoch 81/100\n",
            "24/24 [==============================] - 0s 6ms/step - loss: 0.0451 - accuracy: 0.9863 - val_loss: 0.1129 - val_accuracy: 0.9657\n",
            "Epoch 82/100\n",
            "24/24 [==============================] - 0s 7ms/step - loss: 0.0440 - accuracy: 0.9866 - val_loss: 0.1089 - val_accuracy: 0.9672\n",
            "Epoch 83/100\n",
            "24/24 [==============================] - 0s 7ms/step - loss: 0.0432 - accuracy: 0.9863 - val_loss: 0.1067 - val_accuracy: 0.9686\n",
            "Epoch 84/100\n",
            "24/24 [==============================] - 0s 8ms/step - loss: 0.0428 - accuracy: 0.9871 - val_loss: 0.1083 - val_accuracy: 0.9683\n",
            "Epoch 85/100\n",
            "24/24 [==============================] - 0s 7ms/step - loss: 0.0400 - accuracy: 0.9879 - val_loss: 0.1029 - val_accuracy: 0.9692\n",
            "Epoch 86/100\n",
            "24/24 [==============================] - 0s 7ms/step - loss: 0.0378 - accuracy: 0.9885 - val_loss: 0.1051 - val_accuracy: 0.9698\n",
            "Epoch 87/100\n",
            "24/24 [==============================] - 0s 6ms/step - loss: 0.0373 - accuracy: 0.9888 - val_loss: 0.1084 - val_accuracy: 0.9678\n",
            "Epoch 88/100\n",
            "24/24 [==============================] - 0s 6ms/step - loss: 0.0387 - accuracy: 0.9883 - val_loss: 0.1065 - val_accuracy: 0.9696\n",
            "Epoch 89/100\n",
            "24/24 [==============================] - 0s 8ms/step - loss: 0.0384 - accuracy: 0.9878 - val_loss: 0.1058 - val_accuracy: 0.9682\n",
            "Epoch 90/100\n",
            "24/24 [==============================] - 0s 7ms/step - loss: 0.0371 - accuracy: 0.9885 - val_loss: 0.1021 - val_accuracy: 0.9705\n",
            "Epoch 91/100\n",
            "24/24 [==============================] - 0s 7ms/step - loss: 0.0373 - accuracy: 0.9886 - val_loss: 0.1042 - val_accuracy: 0.9678\n",
            "Epoch 92/100\n",
            "24/24 [==============================] - 0s 7ms/step - loss: 0.0387 - accuracy: 0.9877 - val_loss: 0.1060 - val_accuracy: 0.9683\n",
            "Epoch 93/100\n",
            "24/24 [==============================] - 0s 8ms/step - loss: 0.0419 - accuracy: 0.9871 - val_loss: 0.1092 - val_accuracy: 0.9680\n",
            "Epoch 94/100\n",
            "24/24 [==============================] - 0s 6ms/step - loss: 0.0386 - accuracy: 0.9882 - val_loss: 0.1077 - val_accuracy: 0.9680\n",
            "Epoch 95/100\n",
            "24/24 [==============================] - 0s 6ms/step - loss: 0.0384 - accuracy: 0.9885 - val_loss: 0.1094 - val_accuracy: 0.9673\n",
            "Epoch 96/100\n",
            "24/24 [==============================] - 0s 5ms/step - loss: 0.0372 - accuracy: 0.9883 - val_loss: 0.1082 - val_accuracy: 0.9673\n",
            "Epoch 97/100\n",
            "24/24 [==============================] - 0s 6ms/step - loss: 0.0354 - accuracy: 0.9891 - val_loss: 0.1073 - val_accuracy: 0.9682\n",
            "Epoch 98/100\n",
            "24/24 [==============================] - 0s 6ms/step - loss: 0.0372 - accuracy: 0.9886 - val_loss: 0.1068 - val_accuracy: 0.9686\n",
            "Epoch 99/100\n",
            "24/24 [==============================] - 0s 7ms/step - loss: 0.0348 - accuracy: 0.9893 - val_loss: 0.1079 - val_accuracy: 0.9685\n",
            "Epoch 100/100\n",
            "24/24 [==============================] - 0s 5ms/step - loss: 0.0332 - accuracy: 0.9897 - val_loss: 0.1089 - val_accuracy: 0.9689\n"
          ]
        }
      ],
      "source": [
        "#we train our model like any other with a x_train and y_train\n",
        "#epochs is how many times we update our weights\n",
        "#batch size is how many observation to look at while preforming SGD\n",
        "#we can define a validation split between our epochs to determine how well it does with out of sample data\n",
        "#I am going to save our fit back to a variable for later use\n",
        "history = model.fit(X_train, y_train, epochs=100, \n",
        "          batch_size=2000, \n",
        "          validation_split=0.2)"
      ]
    },
    {
      "cell_type": "code",
      "execution_count": 31,
      "id": "0a526abf",
      "metadata": {
        "colab": {
          "base_uri": "https://localhost:8080/"
        },
        "id": "0a526abf",
        "outputId": "d4b0d4a6-e956-44ba-c4de-661c2d46dcc9"
      },
      "outputs": [
        {
          "output_type": "stream",
          "name": "stdout",
          "text": [
            "test loss, test acc: [0.09742147475481033, 0.968999981880188]\n"
          ]
        }
      ],
      "source": [
        "#final model score against our test data\n",
        "results = model.evaluate(X_test,  y_test, verbose = 0)\n",
        "print('test loss, test acc:', results)"
      ]
    },
    {
      "cell_type": "code",
      "source": [
        "predictions = model.predict(tf.expand_dims(X_train[0], axis=0))"
      ],
      "metadata": {
        "colab": {
          "base_uri": "https://localhost:8080/"
        },
        "id": "NkoJYd6fLDz3",
        "outputId": "39f8be2f-4100-4912-fb62-15117ab694b0"
      },
      "id": "NkoJYd6fLDz3",
      "execution_count": 32,
      "outputs": [
        {
          "output_type": "stream",
          "name": "stdout",
          "text": [
            "1/1 [==============================] - 0s 81ms/step\n"
          ]
        }
      ]
    },
    {
      "cell_type": "code",
      "source": [
        "predictions"
      ],
      "metadata": {
        "colab": {
          "base_uri": "https://localhost:8080/"
        },
        "id": "zwnEK1FligpQ",
        "outputId": "dea996aa-be56-4b2f-ad3a-9afc0f1cc16a"
      },
      "id": "zwnEK1FligpQ",
      "execution_count": 33,
      "outputs": [
        {
          "output_type": "execute_result",
          "data": {
            "text/plain": [
              "array([[0.00136391, 0.10395385, 0.00825092, 0.99114555, 0.00262601,\n",
              "        0.99996173, 0.00234214, 0.0345061 , 0.03833614, 0.38700995]],\n",
              "      dtype=float32)"
            ]
          },
          "metadata": {},
          "execution_count": 33
        }
      ]
    },
    {
      "cell_type": "code",
      "source": [
        "# We can see what prediction the model made using np.argmax on our predictions array\n",
        "np.argmax(predictions)"
      ],
      "metadata": {
        "colab": {
          "base_uri": "https://localhost:8080/"
        },
        "id": "97vJwd_Fik43",
        "outputId": "ee9c4dc7-2e39-4670-904b-7cb8c9ac8fba"
      },
      "id": "97vJwd_Fik43",
      "execution_count": 34,
      "outputs": [
        {
          "output_type": "execute_result",
          "data": {
            "text/plain": [
              "5"
            ]
          },
          "metadata": {},
          "execution_count": 34
        }
      ]
    },
    {
      "cell_type": "code",
      "source": [
        "# Our actual\n",
        "y_train[0]"
      ],
      "metadata": {
        "colab": {
          "base_uri": "https://localhost:8080/"
        },
        "id": "2-bEz6AUMvkL",
        "outputId": "6da6ef95-6192-4ea3-e398-05626d6c09c0"
      },
      "id": "2-bEz6AUMvkL",
      "execution_count": 35,
      "outputs": [
        {
          "output_type": "execute_result",
          "data": {
            "text/plain": [
              "5"
            ]
          },
          "metadata": {},
          "execution_count": 35
        }
      ]
    },
    {
      "cell_type": "code",
      "source": [
        "history_df = pd.DataFrame(history.history)"
      ],
      "metadata": {
        "id": "ICcwsLo_Rn1P"
      },
      "id": "ICcwsLo_Rn1P",
      "execution_count": 36,
      "outputs": []
    },
    {
      "cell_type": "code",
      "source": [
        "history_df.head()"
      ],
      "metadata": {
        "colab": {
          "base_uri": "https://localhost:8080/",
          "height": 206
        },
        "id": "z4-RahGBR9Ip",
        "outputId": "f753ab43-6b52-438d-99c1-d6ccab9bac07"
      },
      "id": "z4-RahGBR9Ip",
      "execution_count": 37,
      "outputs": [
        {
          "output_type": "execute_result",
          "data": {
            "text/plain": [
              "       loss  accuracy  val_loss  val_accuracy\n",
              "0  1.688023  0.596646  1.083802      0.816333\n",
              "1  0.839652  0.831542  0.594416      0.880333\n",
              "2  0.518183  0.886750  0.411852      0.906500\n",
              "3  0.385599  0.908000  0.333751      0.917917\n",
              "4  0.321674  0.918583  0.290555      0.925333"
            ],
            "text/html": [
              "\n",
              "  <div id=\"df-15d657aa-af9e-4234-8d51-af6a673ad613\">\n",
              "    <div class=\"colab-df-container\">\n",
              "      <div>\n",
              "<style scoped>\n",
              "    .dataframe tbody tr th:only-of-type {\n",
              "        vertical-align: middle;\n",
              "    }\n",
              "\n",
              "    .dataframe tbody tr th {\n",
              "        vertical-align: top;\n",
              "    }\n",
              "\n",
              "    .dataframe thead th {\n",
              "        text-align: right;\n",
              "    }\n",
              "</style>\n",
              "<table border=\"1\" class=\"dataframe\">\n",
              "  <thead>\n",
              "    <tr style=\"text-align: right;\">\n",
              "      <th></th>\n",
              "      <th>loss</th>\n",
              "      <th>accuracy</th>\n",
              "      <th>val_loss</th>\n",
              "      <th>val_accuracy</th>\n",
              "    </tr>\n",
              "  </thead>\n",
              "  <tbody>\n",
              "    <tr>\n",
              "      <th>0</th>\n",
              "      <td>1.688023</td>\n",
              "      <td>0.596646</td>\n",
              "      <td>1.083802</td>\n",
              "      <td>0.816333</td>\n",
              "    </tr>\n",
              "    <tr>\n",
              "      <th>1</th>\n",
              "      <td>0.839652</td>\n",
              "      <td>0.831542</td>\n",
              "      <td>0.594416</td>\n",
              "      <td>0.880333</td>\n",
              "    </tr>\n",
              "    <tr>\n",
              "      <th>2</th>\n",
              "      <td>0.518183</td>\n",
              "      <td>0.886750</td>\n",
              "      <td>0.411852</td>\n",
              "      <td>0.906500</td>\n",
              "    </tr>\n",
              "    <tr>\n",
              "      <th>3</th>\n",
              "      <td>0.385599</td>\n",
              "      <td>0.908000</td>\n",
              "      <td>0.333751</td>\n",
              "      <td>0.917917</td>\n",
              "    </tr>\n",
              "    <tr>\n",
              "      <th>4</th>\n",
              "      <td>0.321674</td>\n",
              "      <td>0.918583</td>\n",
              "      <td>0.290555</td>\n",
              "      <td>0.925333</td>\n",
              "    </tr>\n",
              "  </tbody>\n",
              "</table>\n",
              "</div>\n",
              "      <button class=\"colab-df-convert\" onclick=\"convertToInteractive('df-15d657aa-af9e-4234-8d51-af6a673ad613')\"\n",
              "              title=\"Convert this dataframe to an interactive table.\"\n",
              "              style=\"display:none;\">\n",
              "        \n",
              "  <svg xmlns=\"http://www.w3.org/2000/svg\" height=\"24px\"viewBox=\"0 0 24 24\"\n",
              "       width=\"24px\">\n",
              "    <path d=\"M0 0h24v24H0V0z\" fill=\"none\"/>\n",
              "    <path d=\"M18.56 5.44l.94 2.06.94-2.06 2.06-.94-2.06-.94-.94-2.06-.94 2.06-2.06.94zm-11 1L8.5 8.5l.94-2.06 2.06-.94-2.06-.94L8.5 2.5l-.94 2.06-2.06.94zm10 10l.94 2.06.94-2.06 2.06-.94-2.06-.94-.94-2.06-.94 2.06-2.06.94z\"/><path d=\"M17.41 7.96l-1.37-1.37c-.4-.4-.92-.59-1.43-.59-.52 0-1.04.2-1.43.59L10.3 9.45l-7.72 7.72c-.78.78-.78 2.05 0 2.83L4 21.41c.39.39.9.59 1.41.59.51 0 1.02-.2 1.41-.59l7.78-7.78 2.81-2.81c.8-.78.8-2.07 0-2.86zM5.41 20L4 18.59l7.72-7.72 1.47 1.35L5.41 20z\"/>\n",
              "  </svg>\n",
              "      </button>\n",
              "      \n",
              "  <style>\n",
              "    .colab-df-container {\n",
              "      display:flex;\n",
              "      flex-wrap:wrap;\n",
              "      gap: 12px;\n",
              "    }\n",
              "\n",
              "    .colab-df-convert {\n",
              "      background-color: #E8F0FE;\n",
              "      border: none;\n",
              "      border-radius: 50%;\n",
              "      cursor: pointer;\n",
              "      display: none;\n",
              "      fill: #1967D2;\n",
              "      height: 32px;\n",
              "      padding: 0 0 0 0;\n",
              "      width: 32px;\n",
              "    }\n",
              "\n",
              "    .colab-df-convert:hover {\n",
              "      background-color: #E2EBFA;\n",
              "      box-shadow: 0px 1px 2px rgba(60, 64, 67, 0.3), 0px 1px 3px 1px rgba(60, 64, 67, 0.15);\n",
              "      fill: #174EA6;\n",
              "    }\n",
              "\n",
              "    [theme=dark] .colab-df-convert {\n",
              "      background-color: #3B4455;\n",
              "      fill: #D2E3FC;\n",
              "    }\n",
              "\n",
              "    [theme=dark] .colab-df-convert:hover {\n",
              "      background-color: #434B5C;\n",
              "      box-shadow: 0px 1px 3px 1px rgba(0, 0, 0, 0.15);\n",
              "      filter: drop-shadow(0px 1px 2px rgba(0, 0, 0, 0.3));\n",
              "      fill: #FFFFFF;\n",
              "    }\n",
              "  </style>\n",
              "\n",
              "      <script>\n",
              "        const buttonEl =\n",
              "          document.querySelector('#df-15d657aa-af9e-4234-8d51-af6a673ad613 button.colab-df-convert');\n",
              "        buttonEl.style.display =\n",
              "          google.colab.kernel.accessAllowed ? 'block' : 'none';\n",
              "\n",
              "        async function convertToInteractive(key) {\n",
              "          const element = document.querySelector('#df-15d657aa-af9e-4234-8d51-af6a673ad613');\n",
              "          const dataTable =\n",
              "            await google.colab.kernel.invokeFunction('convertToInteractive',\n",
              "                                                     [key], {});\n",
              "          if (!dataTable) return;\n",
              "\n",
              "          const docLinkHtml = 'Like what you see? Visit the ' +\n",
              "            '<a target=\"_blank\" href=https://colab.research.google.com/notebooks/data_table.ipynb>data table notebook</a>'\n",
              "            + ' to learn more about interactive tables.';\n",
              "          element.innerHTML = '';\n",
              "          dataTable['output_type'] = 'display_data';\n",
              "          await google.colab.output.renderOutput(dataTable, element);\n",
              "          const docLink = document.createElement('div');\n",
              "          docLink.innerHTML = docLinkHtml;\n",
              "          element.appendChild(docLink);\n",
              "        }\n",
              "      </script>\n",
              "    </div>\n",
              "  </div>\n",
              "  "
            ]
          },
          "metadata": {},
          "execution_count": 37
        }
      ]
    },
    {
      "cell_type": "code",
      "source": [
        "# It looks like our model is reaching the point of diminshing returns with epochs. Let's take a look\n",
        "history_df.accuracy.plot()\n",
        "plt.xlabel('Epochs')\n",
        "plt.ylabel('Accuracy')"
      ],
      "metadata": {
        "colab": {
          "base_uri": "https://localhost:8080/",
          "height": 466
        },
        "id": "kZTPJ0M4P5sv",
        "outputId": "c8b3c835-16e0-426e-c0ea-b0d8d120e71b"
      },
      "id": "kZTPJ0M4P5sv",
      "execution_count": 38,
      "outputs": [
        {
          "output_type": "execute_result",
          "data": {
            "text/plain": [
              "Text(0, 0.5, 'Accuracy')"
            ]
          },
          "metadata": {},
          "execution_count": 38
        },
        {
          "output_type": "display_data",
          "data": {
            "text/plain": [
              "<Figure size 640x480 with 1 Axes>"
            ],
            "image/png": "[encoded data removed]"
          },
          "metadata": {}
        }
      ]
    },
    {
      "cell_type": "code",
      "source": [
        "history_df.loss.plot()\n",
        "plt.xlabel('Epochs')\n",
        "plt.ylabel('Loss')"
      ],
      "metadata": {
        "colab": {
          "base_uri": "https://localhost:8080/",
          "height": 468
        },
        "id": "xb_blo2USPsJ",
        "outputId": "1f7f7e77-e0a3-4069-8ab7-77846afe7638"
      },
      "id": "xb_blo2USPsJ",
      "execution_count": 39,
      "outputs": [
        {
          "output_type": "execute_result",
          "data": {
            "text/plain": [
              "Text(0, 0.5, 'Loss')"
            ]
          },
          "metadata": {},
          "execution_count": 39
        },
        {
          "output_type": "display_data",
          "data": {
            "text/plain": [
              "<Figure size 640x480 with 1 Axes>"
            ],
            "image/png": "[encoded data removed]"
          },
          "metadata": {}
        }
      ]
    },
    {
      "cell_type": "code",
      "source": [
        "# How can we stop it early if we don't need to contuniue training\n",
        "#defining our model\n",
        "#sequential = feed forward network\n",
        "model2 = tf.keras.Sequential([\n",
        "    \n",
        "    # reshape 28 row * 28 column data to 28*28 rows\n",
        "    tf.keras.layers.Flatten(input_shape=(28, 28)),\n",
        "    \n",
        "      # dense(hidden) layer 1\n",
        "    tf.keras.layers.Dense(256, activation='sigmoid'),  \n",
        "    \n",
        "    # dense(hidden) layer 2\n",
        "    tf.keras.layers.Dense(128, activation='sigmoid'), \n",
        "    \n",
        "      # output layer\n",
        "    tf.keras.layers.Dense(10, activation='sigmoid'),  \n",
        "])\n",
        "\n",
        "model2.compile(optimizer='adam',\n",
        "              loss='sparse_categorical_crossentropy',\n",
        "              metrics=['accuracy'])\n",
        "\n",
        "callback = tf.keras.callbacks.EarlyStopping(monitor='loss', patience=3)\n",
        "\n",
        "history2 = model2.fit(X_train, y_train, epochs=100, \n",
        "          batch_size=2000, \n",
        "          validation_split=0.2,\n",
        "          callbacks = [callback])"
      ],
      "metadata": {
        "colab": {
          "base_uri": "https://localhost:8080/"
        },
        "id": "voEglxCtQvud",
        "outputId": "b5339faa-d205-4e35-c0b2-1b10401b7695"
      },
      "id": "voEglxCtQvud",
      "execution_count": 40,
      "outputs": [
        {
          "output_type": "stream",
          "name": "stdout",
          "text": [
            "Epoch 1/100\n",
            "24/24 [==============================] - 1s 12ms/step - loss: 1.6413 - accuracy: 0.6253 - val_loss: 1.0301 - val_accuracy: 0.8303\n",
            "Epoch 2/100\n",
            "24/24 [==============================] - 0s 6ms/step - loss: 0.7804 - accuracy: 0.8502 - val_loss: 0.5427 - val_accuracy: 0.8901\n",
            "Epoch 3/100\n",
            "24/24 [==============================] - 0s 5ms/step - loss: 0.4798 - accuracy: 0.8931 - val_loss: 0.3865 - val_accuracy: 0.9078\n",
            "Epoch 4/100\n",
            "24/24 [==============================] - 0s 6ms/step - loss: 0.3652 - accuracy: 0.9104 - val_loss: 0.3190 - val_accuracy: 0.9180\n",
            "Epoch 5/100\n",
            "24/24 [==============================] - 0s 6ms/step - loss: 0.3094 - accuracy: 0.9201 - val_loss: 0.2808 - val_accuracy: 0.9269\n",
            "Epoch 6/100\n",
            "24/24 [==============================] - 0s 6ms/step - loss: 0.2722 - accuracy: 0.9280 - val_loss: 0.2548 - val_accuracy: 0.9307\n",
            "Epoch 7/100\n",
            "24/24 [==============================] - 0s 5ms/step - loss: 0.2459 - accuracy: 0.9334 - val_loss: 0.2359 - val_accuracy: 0.9367\n",
            "Epoch 8/100\n",
            "24/24 [==============================] - 0s 5ms/step - loss: 0.2244 - accuracy: 0.9391 - val_loss: 0.2183 - val_accuracy: 0.9412\n",
            "Epoch 9/100\n",
            "24/24 [==============================] - 0s 6ms/step - loss: 0.2063 - accuracy: 0.9440 - val_loss: 0.2066 - val_accuracy: 0.9441\n",
            "Epoch 10/100\n",
            "24/24 [==============================] - 0s 6ms/step - loss: 0.1926 - accuracy: 0.9477 - val_loss: 0.1959 - val_accuracy: 0.9470\n",
            "Epoch 11/100\n",
            "24/24 [==============================] - 0s 6ms/step - loss: 0.1812 - accuracy: 0.9510 - val_loss: 0.1877 - val_accuracy: 0.9487\n",
            "Epoch 12/100\n",
            "24/24 [==============================] - 0s 7ms/step - loss: 0.1700 - accuracy: 0.9530 - val_loss: 0.1793 - val_accuracy: 0.9494\n",
            "Epoch 13/100\n",
            "24/24 [==============================] - 0s 6ms/step - loss: 0.1660 - accuracy: 0.9540 - val_loss: 0.1750 - val_accuracy: 0.9497\n",
            "Epoch 14/100\n",
            "24/24 [==============================] - 0s 6ms/step - loss: 0.1564 - accuracy: 0.9563 - val_loss: 0.1692 - val_accuracy: 0.9540\n",
            "Epoch 15/100\n",
            "24/24 [==============================] - 0s 5ms/step - loss: 0.1502 - accuracy: 0.9580 - val_loss: 0.1651 - val_accuracy: 0.9547\n",
            "Epoch 16/100\n",
            "24/24 [==============================] - 0s 5ms/step - loss: 0.1406 - accuracy: 0.9610 - val_loss: 0.1564 - val_accuracy: 0.9560\n",
            "Epoch 17/100\n",
            "24/24 [==============================] - 0s 5ms/step - loss: 0.1331 - accuracy: 0.9629 - val_loss: 0.1517 - val_accuracy: 0.9570\n",
            "Epoch 18/100\n",
            "24/24 [==============================] - 0s 5ms/step - loss: 0.1275 - accuracy: 0.9640 - val_loss: 0.1495 - val_accuracy: 0.9571\n",
            "Epoch 19/100\n",
            "24/24 [==============================] - 0s 5ms/step - loss: 0.1220 - accuracy: 0.9659 - val_loss: 0.1454 - val_accuracy: 0.9581\n",
            "Epoch 20/100\n",
            "24/24 [==============================] - 0s 6ms/step - loss: 0.1179 - accuracy: 0.9679 - val_loss: 0.1451 - val_accuracy: 0.9581\n",
            "Epoch 21/100\n",
            "24/24 [==============================] - 0s 5ms/step - loss: 0.1127 - accuracy: 0.9689 - val_loss: 0.1387 - val_accuracy: 0.9607\n",
            "Epoch 22/100\n",
            "24/24 [==============================] - 0s 5ms/step - loss: 0.1094 - accuracy: 0.9701 - val_loss: 0.1382 - val_accuracy: 0.9603\n",
            "Epoch 23/100\n",
            "24/24 [==============================] - 0s 5ms/step - loss: 0.1084 - accuracy: 0.9700 - val_loss: 0.1365 - val_accuracy: 0.9606\n",
            "Epoch 24/100\n",
            "24/24 [==============================] - 0s 5ms/step - loss: 0.1053 - accuracy: 0.9715 - val_loss: 0.1354 - val_accuracy: 0.9620\n",
            "Epoch 25/100\n",
            "24/24 [==============================] - 0s 6ms/step - loss: 0.1013 - accuracy: 0.9716 - val_loss: 0.1302 - val_accuracy: 0.9623\n",
            "Epoch 26/100\n",
            "24/24 [==============================] - 0s 5ms/step - loss: 0.0972 - accuracy: 0.9735 - val_loss: 0.1284 - val_accuracy: 0.9631\n",
            "Epoch 27/100\n",
            "24/24 [==============================] - 0s 6ms/step - loss: 0.0943 - accuracy: 0.9740 - val_loss: 0.1262 - val_accuracy: 0.9618\n",
            "Epoch 28/100\n",
            "24/24 [==============================] - 0s 5ms/step - loss: 0.0891 - accuracy: 0.9749 - val_loss: 0.1293 - val_accuracy: 0.9628\n",
            "Epoch 29/100\n",
            "24/24 [==============================] - 0s 6ms/step - loss: 0.0913 - accuracy: 0.9745 - val_loss: 0.1260 - val_accuracy: 0.9615\n",
            "Epoch 30/100\n",
            "24/24 [==============================] - 0s 5ms/step - loss: 0.0878 - accuracy: 0.9751 - val_loss: 0.1243 - val_accuracy: 0.9633\n",
            "Epoch 31/100\n",
            "24/24 [==============================] - 0s 5ms/step - loss: 0.0868 - accuracy: 0.9749 - val_loss: 0.1237 - val_accuracy: 0.9637\n",
            "Epoch 32/100\n",
            "24/24 [==============================] - 0s 5ms/step - loss: 0.0851 - accuracy: 0.9764 - val_loss: 0.1241 - val_accuracy: 0.9642\n",
            "Epoch 33/100\n",
            "24/24 [==============================] - 0s 5ms/step - loss: 0.0832 - accuracy: 0.9765 - val_loss: 0.1224 - val_accuracy: 0.9635\n",
            "Epoch 34/100\n",
            "24/24 [==============================] - 0s 5ms/step - loss: 0.0814 - accuracy: 0.9769 - val_loss: 0.1185 - val_accuracy: 0.9652\n",
            "Epoch 35/100\n",
            "24/24 [==============================] - 0s 6ms/step - loss: 0.0767 - accuracy: 0.9788 - val_loss: 0.1166 - val_accuracy: 0.9664\n",
            "Epoch 36/100\n",
            "24/24 [==============================] - 0s 5ms/step - loss: 0.0736 - accuracy: 0.9793 - val_loss: 0.1175 - val_accuracy: 0.9645\n",
            "Epoch 37/100\n",
            "24/24 [==============================] - 0s 6ms/step - loss: 0.0740 - accuracy: 0.9784 - val_loss: 0.1164 - val_accuracy: 0.9648\n",
            "Epoch 38/100\n",
            "24/24 [==============================] - 0s 5ms/step - loss: 0.0717 - accuracy: 0.9792 - val_loss: 0.1178 - val_accuracy: 0.9656\n",
            "Epoch 39/100\n",
            "24/24 [==============================] - 0s 5ms/step - loss: 0.0700 - accuracy: 0.9794 - val_loss: 0.1157 - val_accuracy: 0.9654\n",
            "Epoch 40/100\n",
            "24/24 [==============================] - 0s 5ms/step - loss: 0.0687 - accuracy: 0.9809 - val_loss: 0.1152 - val_accuracy: 0.9663\n",
            "Epoch 41/100\n",
            "24/24 [==============================] - 0s 5ms/step - loss: 0.0667 - accuracy: 0.9812 - val_loss: 0.1129 - val_accuracy: 0.9661\n",
            "Epoch 42/100\n",
            "24/24 [==============================] - 0s 7ms/step - loss: 0.0645 - accuracy: 0.9814 - val_loss: 0.1097 - val_accuracy: 0.9658\n",
            "Epoch 43/100\n",
            "24/24 [==============================] - 0s 6ms/step - loss: 0.0641 - accuracy: 0.9819 - val_loss: 0.1147 - val_accuracy: 0.9659\n",
            "Epoch 44/100\n",
            "24/24 [==============================] - 0s 6ms/step - loss: 0.0658 - accuracy: 0.9813 - val_loss: 0.1105 - val_accuracy: 0.9665\n",
            "Epoch 45/100\n",
            "24/24 [==============================] - 0s 5ms/step - loss: 0.0658 - accuracy: 0.9807 - val_loss: 0.1139 - val_accuracy: 0.9656\n",
            "Epoch 46/100\n",
            "24/24 [==============================] - 0s 5ms/step - loss: 0.0694 - accuracy: 0.9797 - val_loss: 0.1156 - val_accuracy: 0.9657\n"
          ]
        }
      ]
    },
    {
      "cell_type": "code",
      "source": [
        "# stopped early!, Let's replot\n",
        "history_df2 = pd.DataFrame(history2.history)\n",
        "\n",
        "history_df2.accuracy.plot()\n",
        "plt.xlabel('Epochs')\n",
        "plt.ylabel('Accuracy')\n",
        "plt.show()\n",
        "\n",
        "history_df2.loss.plot()\n",
        "plt.xlabel('Epochs')\n",
        "plt.ylabel('Loss')\n",
        "plt.show()"
      ],
      "metadata": {
        "colab": {
          "base_uri": "https://localhost:8080/",
          "height": 881
        },
        "id": "0cOYRZDzTxgP",
        "outputId": "a6f18cc1-4571-4651-bdf9-2440d7765557"
      },
      "id": "0cOYRZDzTxgP",
      "execution_count": 41,
      "outputs": [
        {
          "output_type": "display_data",
          "data": {
            "text/plain": [
              "<Figure size 640x480 with 1 Axes>"
            ],
            "image/png": "[encoded data removed]"
          },
          "metadata": {}
        },
        {
          "output_type": "display_data",
          "data": {
            "text/plain": [
              "<Figure size 640x480 with 1 Axes>"
            ],
            "image/png": "[encoded data removed]"
          },
          "metadata": {}
        }
      ]
    },
    {
      "cell_type": "code",
      "source": [
        "# Once we are happy we can save our model for later\n",
        "model2.save('bestmodel')"
      ],
      "metadata": {
        "id": "0t1iQ2AMjSEi"
      },
      "id": "0t1iQ2AMjSEi",
      "execution_count": 42,
      "outputs": []
    },
    {
      "cell_type": "code",
      "source": [
        "# We can also load it up to use for predictions\n",
        "new_model = tf.keras.models.load_model('bestmodel')"
      ],
      "metadata": {
        "id": "jN26BbUtjahc"
      },
      "id": "jN26BbUtjahc",
      "execution_count": 43,
      "outputs": []
    },
    {
      "cell_type": "code",
      "source": [
        "new_model"
      ],
      "metadata": {
        "colab": {
          "base_uri": "https://localhost:8080/"
        },
        "id": "ERLFcR8Tjj7i",
        "outputId": "9b9dace6-5c7e-412a-970b-80c0cf8d5613"
      },
      "id": "ERLFcR8Tjj7i",
      "execution_count": 44,
      "outputs": [
        {
          "output_type": "execute_result",
          "data": {
            "text/plain": [
              "<keras.engine.sequential.Sequential at 0x7fe85cfbeda0>"
            ]
          },
          "metadata": {},
          "execution_count": 44
        }
      ]
    },
    {
      "cell_type": "code",
      "source": [
        "new_model.predict(tf.expand_dims(X_train[0], axis=0))"
      ],
      "metadata": {
        "colab": {
          "base_uri": "https://localhost:8080/"
        },
        "id": "yZt2VcS9jlLv",
        "outputId": "8b4d37c7-39b0-4d23-f024-06982a458ef8"
      },
      "id": "yZt2VcS9jlLv",
      "execution_count": 45,
      "outputs": [
        {
          "output_type": "stream",
          "name": "stdout",
          "text": [
            "1/1 [==============================] - 0s 55ms/step\n"
          ]
        },
        {
          "output_type": "execute_result",
          "data": {
            "text/plain": [
              "array([[0.11214998, 0.3525113 , 0.03219663, 0.977491  , 0.02326918,\n",
              "        0.99994123, 0.08697268, 0.5109039 , 0.138096  , 0.37898445]],\n",
              "      dtype=float32)"
            ]
          },
          "metadata": {},
          "execution_count": 45
        }
      ]
    },
    {
      "cell_type": "code",
      "source": [
        "y_train[0]"
      ],
      "metadata": {
        "colab": {
          "base_uri": "https://localhost:8080/"
        },
        "id": "PIjE-SkTjo1k",
        "outputId": "52688735-6b70-4852-ed47-e1bae9c3e5f9"
      },
      "id": "PIjE-SkTjo1k",
      "execution_count": 46,
      "outputs": [
        {
          "output_type": "execute_result",
          "data": {
            "text/plain": [
              "5"
            ]
          },
          "metadata": {},
          "execution_count": 46
        }
      ]
    }
  ],
  "metadata": {
    "kernelspec": {
      "display_name": "Python 3 (ipykernel)",
      "language": "python",
      "name": "python3"
    },
    "language_info": {
      "codemirror_mode": {
        "name": "ipython",
        "version": 3
      },
      "file_extension": ".py",
      "mimetype": "text/x-python",
      "name": "python",
      "nbconvert_exporter": "python",
      "pygments_lexer": "ipython3",
      "version": "3.9.12"
    },
    "colab": {
      "provenance": [],
      "gpuType": "T4"
    },
    "accelerator": "GPU",
    "gpuClass": "standard"
  },
  "nbformat": 4,
  "nbformat_minor": 5
}